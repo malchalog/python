{
 "cells": [
  {
   "cell_type": "markdown",
   "metadata": {},
   "source": [
    "# JSON 불러오기 (서울시 도로변 기간별 일평균 대기환경 현황)"
   ]
  },
  {
   "cell_type": "markdown",
   "metadata": {},
   "source": [
    "https://data.seoul.go.kr/dataList/OA-2224/S/1/datasetView.do"
   ]
  },
  {
   "cell_type": "code",
   "execution_count": 3,
   "metadata": {},
   "outputs": [],
   "source": [
    "API_KEY = '55674272676d65793832626b4f6d75'\n",
    "TYPE = 'json'\n",
    "SERVICE = 'DailyAverageRoadside'\n",
    "START_INDEX = '1'\n",
    "END_INDEX = '5'\n",
    "MSRDT_DE = '20200315'\n",
    "\n",
    "URL = f'http://openAPI.seoul.go.kr:8088/{API_KEY}/{TYPE}/{SERVICE}/{START_INDEX}/{END_INDEX}/{MSRDT_DE}'\n"
   ]
  },
  {
   "cell_type": "code",
   "execution_count": 9,
   "metadata": {},
   "outputs": [
    {
     "data": {
      "text/plain": [
       "<Response [200]>"
      ]
     },
     "execution_count": 9,
     "metadata": {},
     "output_type": "execute_result"
    }
   ],
   "source": [
    "import requests\n",
    "response = requests.get(URL)\n",
    "response"
   ]
  },
  {
   "cell_type": "code",
   "execution_count": 10,
   "metadata": {},
   "outputs": [
    {
     "data": {
      "text/plain": [
       "{'DailyAverageRoadside': {'list_total_count': 25,\n",
       "  'RESULT': {'CODE': 'INFO-000', 'MESSAGE': '정상 처리되었습니다'},\n",
       "  'row': [{'MSRDT_DE': '20200315',\n",
       "    'MSRCLS_CD': '고공',\n",
       "    'MSRSTE_NM': '북한산',\n",
       "    'PM10': 40.0,\n",
       "    'O3': 0.039,\n",
       "    'NO2': 0.007,\n",
       "    'CO': 0.6,\n",
       "    'SO2': 0.004},\n",
       "   {'MSRDT_DE': '20200315',\n",
       "    'MSRCLS_CD': '고공',\n",
       "    'MSRSTE_NM': '남산',\n",
       "    'PM10': 36.0,\n",
       "    'O3': 0.036,\n",
       "    'NO2': 0.009,\n",
       "    'CO': 0.9,\n",
       "    'SO2': 0.004},\n",
       "   {'MSRDT_DE': '20200315',\n",
       "    'MSRCLS_CD': '경계',\n",
       "    'MSRSTE_NM': '항동',\n",
       "    'PM10': 44.0,\n",
       "    'O3': 0.03,\n",
       "    'NO2': 0.014,\n",
       "    'CO': 0.4,\n",
       "    'SO2': 0.003},\n",
       "   {'MSRDT_DE': '20200315',\n",
       "    'MSRCLS_CD': '경계',\n",
       "    'MSRSTE_NM': '행주',\n",
       "    'PM10': 48.0,\n",
       "    'O3': 0.03,\n",
       "    'NO2': 0.011,\n",
       "    'CO': 0.8,\n",
       "    'SO2': 0.004},\n",
       "   {'MSRDT_DE': '20200315',\n",
       "    'MSRCLS_CD': '경계',\n",
       "    'MSRSTE_NM': '세곡',\n",
       "    'PM10': 51.0,\n",
       "    'O3': 0.024,\n",
       "    'NO2': 0.011,\n",
       "    'CO': 0.7,\n",
       "    'SO2': 0.003}]}}"
      ]
     },
     "execution_count": 10,
     "metadata": {},
     "output_type": "execute_result"
    }
   ],
   "source": [
    "data_json = response.json()\n",
    "data_json"
   ]
  },
  {
   "cell_type": "code",
   "execution_count": 6,
   "metadata": {},
   "outputs": [
    {
     "data": {
      "text/plain": [
       "dict_keys(['DailyAverageRoadside'])"
      ]
     },
     "execution_count": 6,
     "metadata": {},
     "output_type": "execute_result"
    }
   ],
   "source": [
    "data_json.keys()"
   ]
  },
  {
   "cell_type": "markdown",
   "metadata": {},
   "source": [
    "### 주의 : 데이터 출력되는걸 보고 내가 찾으려는 데이터가 어디에 있는지 잘 파악해서 범위를 좁혀줘야함"
   ]
  },
  {
   "cell_type": "code",
   "execution_count": 12,
   "metadata": {},
   "outputs": [],
   "source": [
    "data = data_json['DailyAverageRoadside']['row']"
   ]
  },
  {
   "cell_type": "code",
   "execution_count": 13,
   "metadata": {},
   "outputs": [
    {
     "data": {
      "text/html": [
       "<div>\n",
       "<style scoped>\n",
       "    .dataframe tbody tr th:only-of-type {\n",
       "        vertical-align: middle;\n",
       "    }\n",
       "\n",
       "    .dataframe tbody tr th {\n",
       "        vertical-align: top;\n",
       "    }\n",
       "\n",
       "    .dataframe thead th {\n",
       "        text-align: right;\n",
       "    }\n",
       "</style>\n",
       "<table border=\"1\" class=\"dataframe\">\n",
       "  <thead>\n",
       "    <tr style=\"text-align: right;\">\n",
       "      <th></th>\n",
       "      <th>MSRDT_DE</th>\n",
       "      <th>MSRCLS_CD</th>\n",
       "      <th>MSRSTE_NM</th>\n",
       "      <th>PM10</th>\n",
       "      <th>O3</th>\n",
       "      <th>NO2</th>\n",
       "      <th>CO</th>\n",
       "      <th>SO2</th>\n",
       "    </tr>\n",
       "  </thead>\n",
       "  <tbody>\n",
       "    <tr>\n",
       "      <th>0</th>\n",
       "      <td>20200315</td>\n",
       "      <td>고공</td>\n",
       "      <td>북한산</td>\n",
       "      <td>40.0</td>\n",
       "      <td>0.039</td>\n",
       "      <td>0.007</td>\n",
       "      <td>0.6</td>\n",
       "      <td>0.004</td>\n",
       "    </tr>\n",
       "    <tr>\n",
       "      <th>1</th>\n",
       "      <td>20200315</td>\n",
       "      <td>고공</td>\n",
       "      <td>남산</td>\n",
       "      <td>36.0</td>\n",
       "      <td>0.036</td>\n",
       "      <td>0.009</td>\n",
       "      <td>0.9</td>\n",
       "      <td>0.004</td>\n",
       "    </tr>\n",
       "    <tr>\n",
       "      <th>2</th>\n",
       "      <td>20200315</td>\n",
       "      <td>경계</td>\n",
       "      <td>항동</td>\n",
       "      <td>44.0</td>\n",
       "      <td>0.030</td>\n",
       "      <td>0.014</td>\n",
       "      <td>0.4</td>\n",
       "      <td>0.003</td>\n",
       "    </tr>\n",
       "    <tr>\n",
       "      <th>3</th>\n",
       "      <td>20200315</td>\n",
       "      <td>경계</td>\n",
       "      <td>행주</td>\n",
       "      <td>48.0</td>\n",
       "      <td>0.030</td>\n",
       "      <td>0.011</td>\n",
       "      <td>0.8</td>\n",
       "      <td>0.004</td>\n",
       "    </tr>\n",
       "    <tr>\n",
       "      <th>4</th>\n",
       "      <td>20200315</td>\n",
       "      <td>경계</td>\n",
       "      <td>세곡</td>\n",
       "      <td>51.0</td>\n",
       "      <td>0.024</td>\n",
       "      <td>0.011</td>\n",
       "      <td>0.7</td>\n",
       "      <td>0.003</td>\n",
       "    </tr>\n",
       "  </tbody>\n",
       "</table>\n",
       "</div>"
      ],
      "text/plain": [
       "   MSRDT_DE MSRCLS_CD MSRSTE_NM  PM10     O3    NO2   CO    SO2\n",
       "0  20200315        고공       북한산  40.0  0.039  0.007  0.6  0.004\n",
       "1  20200315        고공        남산  36.0  0.036  0.009  0.9  0.004\n",
       "2  20200315        경계        항동  44.0  0.030  0.014  0.4  0.003\n",
       "3  20200315        경계        행주  48.0  0.030  0.011  0.8  0.004\n",
       "4  20200315        경계        세곡  51.0  0.024  0.011  0.7  0.003"
      ]
     },
     "execution_count": 13,
     "metadata": {},
     "output_type": "execute_result"
    }
   ],
   "source": [
    "import pandas as pd\n",
    "result = pd.DataFrame(data)\n",
    "result.head()"
   ]
  }
 ],
 "metadata": {
  "kernelspec": {
   "display_name": "web_scapping",
   "language": "python",
   "name": "python3"
  },
  "language_info": {
   "codemirror_mode": {
    "name": "ipython",
    "version": 3
   },
   "file_extension": ".py",
   "mimetype": "text/x-python",
   "name": "python",
   "nbconvert_exporter": "python",
   "pygments_lexer": "ipython3",
   "version": "3.8.17"
  },
  "orig_nbformat": 4
 },
 "nbformat": 4,
 "nbformat_minor": 2
}
